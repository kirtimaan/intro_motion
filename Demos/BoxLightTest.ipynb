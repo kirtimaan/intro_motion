{
 "cells": [
  {
   "cell_type": "code",
   "execution_count": null,
   "metadata": {
    "collapsed": false,
    "scrolled": true
   },
   "outputs": [
    {
     "data": {
      "application/javascript": [
       "require.undef(\"nbextensions/jquery-ui.custom.min\");"
      ],
      "text/plain": [
       "<IPython.core.display.Javascript object>"
      ]
     },
     "metadata": {},
     "output_type": "display_data"
    },
    {
     "data": {
      "application/javascript": [
       "require.undef(\"nbextensions/glow.2.1.min\");"
      ],
      "text/plain": [
       "<IPython.core.display.Javascript object>"
      ]
     },
     "metadata": {},
     "output_type": "display_data"
    },
    {
     "data": {
      "application/javascript": [
       "require.undef(\"nbextensions/glowcomm\");"
      ],
      "text/plain": [
       "<IPython.core.display.Javascript object>"
      ]
     },
     "metadata": {},
     "output_type": "display_data"
    },
    {
     "data": {
      "application/javascript": [
       "require([\"nbextensions/glowcomm\"], function(){console.log(\"glowcomm loaded\");})"
      ],
      "text/plain": [
       "<IPython.core.display.Javascript object>"
      ]
     },
     "metadata": {},
     "output_type": "display_data"
    },
    {
     "data": {
      "text/html": [
       "<div id=\"glowscript\" class=\"glowscript\"></div>"
      ],
      "text/plain": [
       "<IPython.core.display.HTML object>"
      ]
     },
     "metadata": {},
     "output_type": "display_data"
    },
    {
     "data": {
      "application/javascript": [
       "window.__context = { glowscript_container: $(\"#glowscript\").removeAttr(\"id\")}"
      ],
      "text/plain": [
       "<IPython.core.display.Javascript object>"
      ]
     },
     "metadata": {},
     "output_type": "display_data"
    }
   ],
   "source": [
    "from vpython import *\n",
    "scene = canvas() # This is needed in Jupyter notebook and lab to make programs easily rerunnable\n",
    "\n",
    "# Mikhail Temkine, University of Toronto, April 2007\n",
    "\n",
    "scene.forward = vector(-0.4,-0.3,-1)\n",
    "r = 3\n",
    "a1 = a2 = a3 = 0.0\n",
    "\n",
    "arrow(pos=vector(0, 4, 0), axis=vector(0, 1, 0), color=color.red)\n",
    "boxy = box(size=vector(3,3,3), color=vector(0.5, 0.5, 0.5), texture=textures.rough)\n",
    "b1 = sphere(radius=0.3, pos=vector(r, 0, 0), color=color.magenta, emissive=True)\n",
    "b2 = sphere(radius=0.3, pos=vector(0, 0, r), color=color.yellow, emissive=True)\n",
    "b3 = arrow(radius=0.3, pos=vector(0, 0, r), color=color.green, emissive=True)\n",
    "l1 = local_light(pos=b1.pos, color=b1.color)\n",
    "l2 = local_light(pos=b2.pos, color=b2.color)\n",
    "l3 = distant_light(direction=b3.pos, color=b3.color)\n",
    "\n",
    "while True:\n",
    "    rate(100)\n",
    "    l1.pos = b1.pos = r*vector(cos(a1), sin(a1), b1.pos.z)\n",
    "    a1 += 0.02\n",
    "    l2.pos = b2.pos = (r+0.4)*vector(b2.pos.x, sin(a2), cos(a2))\n",
    "    a2 += 0.055\n",
    "    l3.direction = b3.pos = (r+3)*vector(sin(a3), b3.pos.y, cos(a3))\n",
    "    b3.axis = b3.pos * -0.3\n",
    "    a3 += 0.033"
   ]
  },
  {
   "cell_type": "code",
   "execution_count": null,
   "metadata": {
    "collapsed": true
   },
   "outputs": [],
   "source": []
  }
 ],
 "metadata": {
  "kernelspec": {
   "display_name": "VPython",
   "language": "python",
   "name": "vpython"
  },
  "language_info": {
   "codemirror_mode": {
    "name": "ipython",
    "version": 3
   },
   "file_extension": ".py",
   "mimetype": "text/x-python",
   "name": "python",
   "nbconvert_exporter": "python",
   "pygments_lexer": "ipython3",
   "version": "3.6.6"
  }
 },
 "nbformat": 4,
 "nbformat_minor": 2
}
