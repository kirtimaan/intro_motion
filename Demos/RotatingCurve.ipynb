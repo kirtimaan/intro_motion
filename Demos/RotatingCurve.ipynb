{
 "cells": [
  {
   "cell_type": "code",
   "execution_count": null,
   "metadata": {
    "collapsed": true
   },
   "outputs": [],
   "source": [
    "from vpython import *\n",
    "scene = canvas() # This is needed in Jupyter notebook and lab to make programs easily rerunnable\n",
    "from random import random\n",
    "scene.width = scene.height = 600\n",
    "scene.background = color.white\n",
    "scene.range = 1.3\n",
    "scene.title = 'A 15000-segment curve object with random segment lengths, radii, and colors'\n",
    "\n",
    "run = True\n",
    "def Runbutton(b):\n",
    "    global run\n",
    "    if b.text == 'Pause':\n",
    "        run = False\n",
    "        b.text = 'Run'\n",
    "    else:\n",
    "        run = True\n",
    "        b.text = 'Pause'\n",
    "        \n",
    "button(text='Pause', bind=Runbutton)\n",
    "scene.append_to_caption(\"\"\"<br>Right button drag or Ctrl-drag to rotate \"camera\" to view scene.\n",
    "Middle button or Alt-drag to drag up or down to zoom in or out.\n",
    "  On a two-button mouse, middle is left + right.\n",
    "Touch screen: pinch/extend to zoom, swipe or two-finger rotate.\"\"\")\n",
    "\n",
    "N = 15000\n",
    "p = []\n",
    "last = vec(0,0,0)\n",
    "for i in range(N):\n",
    "    next = last+0.1*vec.random()\n",
    "    while mag(next) > 1: # if next is outside the sphere, try another random value\n",
    "        next = last+0.1*vec.random()\n",
    "    p.append({'pos':next, 'radius':0.001+0.03*random(), 'color':(vec(1,1,1)+vec.random())/2})\n",
    "    last = next\n",
    "c = curve(p)\n",
    "while True:\n",
    "    rate(60)\n",
    "    if run:\n",
    "        c.rotate(angle=0.005, axis=vec(0,1,0))\n"
   ]
  }
 ],
 "metadata": {
  "kernelspec": {
   "display_name": "VPython",
   "language": "python",
   "name": "vpython"
  },
  "language_info": {
   "codemirror_mode": {
    "name": "ipython",
    "version": 3
   },
   "file_extension": ".py",
   "mimetype": "text/x-python",
   "name": "python",
   "nbconvert_exporter": "python",
   "pygments_lexer": "ipython3",
   "version": "3.6.6"
  }
 },
 "nbformat": 4,
 "nbformat_minor": 2
}
