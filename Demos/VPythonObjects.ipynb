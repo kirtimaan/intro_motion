{
 "cells": [
  {
   "cell_type": "code",
   "execution_count": 1,
   "metadata": {
    "collapsed": false
   },
   "outputs": [
    {
     "data": {
      "text/html": [
       "<div id=\"glowscript\" class=\"glowscript\"></div>"
      ],
      "text/plain": [
       "<IPython.core.display.HTML object>"
      ]
     },
     "metadata": {},
     "output_type": "display_data"
    },
    {
     "data": {
      "application/javascript": [
       "window.__context = { glowscript_container: $(\"#glowscript\").removeAttr(\"id\")}"
      ],
      "text/plain": [
       "<IPython.core.display.Javascript object>"
      ]
     },
     "metadata": {},
     "output_type": "display_data"
    }
   ],
   "source": [
    "from vpython import *\n",
    "scene = canvas() # This is needed in Jupyter notebook and lab to make programs easily rerunnable\n",
    "\n",
    "# Bruce Sherwood, August 2011; GlowScript VPython version November 2014; Jupyter VPython version Feb. 2016\n",
    "\n",
    "scene.title = \"A display of most VPython 3D objects\"\n",
    "scene.width = 640\n",
    "scene.height = 400\n",
    "#scene.range = 5\n",
    "scene.background = color.gray(0.7)\n",
    "scene.center = vector(0,0.5,0)\n",
    "scene.forward = vector(-.3,0,-1)\n",
    "gslabel = label(pos=vector(1.1,2,0), text='VPython', xoffset=40, height=16, color=color.yellow)\n",
    "box(pos=vector(-2,0,0), size=vector(.3,2.5,2.5), color=color.red)\n",
    "box(pos=vector(.25,-1.4,0), size=vector(4.8,.3,2.5), color=color.red)\n",
    "cylinder(pos=vector(-2,2,1.25), radius=0.7, axis=vector(0,0,-2.5), color=color.blue)\n",
    "ball = sphere(pos=vector(2,1,0), radius=0.5, color=color.cyan)\n",
    "ptr = arrow(pos=vector(0,0,2), axis=vector(2,0,0), color=color.yellow)\n",
    "cone(pos=vector(-2,0,0), radius=1, length=3, color=color.green, opacity=0.5)\n",
    "ring(pos=vector(.2,0,0), radius=.6, axis=vector(1,0,0), thickness=0.12, color=color.gray(0.4))\n",
    "ellipsoid(pos=vector(-.3,2,0), color=color.orange, size=vector(.3,1.5,1.5))\n",
    "pyramid(pos=vector(.3,2,0), color=vector(0,0.5,.25), size=vector(0.8,1.2,1.2))\n",
    "spring = helix(pos=vector(2,-1.25,0), radius=0.3, axis=vector(0,1.8,0), color=color.orange, thickness=.1)\n",
    "angle = 0\n",
    "da = .01\n",
    "\n",
    "trail = curve(color=color.magenta, radius= .02)\n",
    "trail.append(vector(1,0,0))\n",
    "trail.append(vector(1,0,2))\n",
    "trail.append(vector(2,0,2))\n",
    "\n",
    "while angle < 3*pi/4:\n",
    "  rate(100)\n",
    "  ptr.rotate(angle=da, axis=vector(0,0,1), origin=ptr.pos)\n",
    "  trail.append(ptr.pos+ptr.axis)\n",
    "  angle += da\n",
    "    \n",
    "sleep(1) # sleep for 1 second\n",
    "scene.autoscale = False\n",
    "\n",
    "t = 0\n",
    "dt = .01\n",
    "y0 = gslabel.pos.y\n",
    "ball_yo = ball.pos.y\n",
    "while t < 4:\n",
    "  rate(1/dt)\n",
    "  ball.pos.y = ball_yo+0.5*sin(-4*t)\n",
    "  spring.length = ball.pos.y-spring.pos.y-ball.radius+0.15\n",
    "  gslabel.yoffset = 28*sin(-4*t)\n",
    "  t += dt\n",
    "\n",
    "scene.append_to_caption(\"\"\"Drag the mouse and you'll drag a sphere.\n",
    "On a touch screen, press and hold, then drag.\"\"\")\n",
    "\n",
    "s = sphere(color=color.magenta, radius=0.3, visible=False)\n",
    "drag = False\n",
    "\n",
    "def down(ev):\n",
    "    global drag\n",
    "    s.pos = ev.pos\n",
    "    s.visible = True\n",
    "    drag = True\n",
    "\n",
    "def move(ev):\n",
    "    global drag\n",
    "    if not drag: return\n",
    "    s.pos = ev.pos\n",
    "\n",
    "def up(ev):\n",
    "    global drag\n",
    "    s.visible = False\n",
    "    drag = False\n",
    "\n",
    "scene.bind(\"mousedown\", down)\n",
    "\n",
    "scene.bind(\"mousemove\", move)\n",
    "\n",
    "scene.bind(\"mouseup\", up)"
   ]
  },
  {
   "cell_type": "code",
   "execution_count": null,
   "metadata": {
    "collapsed": true
   },
   "outputs": [],
   "source": []
  }
 ],
 "metadata": {
  "anaconda-cloud": {},
  "kernelspec": {
   "display_name": "VPython",
   "language": "python",
   "name": "vpython"
  },
  "language_info": {
   "codemirror_mode": {
    "name": "ipython",
    "version": 3
   },
   "file_extension": ".py",
   "mimetype": "text/x-python",
   "name": "python",
   "nbconvert_exporter": "python",
   "pygments_lexer": "ipython3",
   "version": "3.6.6"
  }
 },
 "nbformat": 4,
 "nbformat_minor": 2
}
