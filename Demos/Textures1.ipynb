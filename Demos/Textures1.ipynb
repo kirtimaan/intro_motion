{
 "cells": [
  {
   "cell_type": "code",
   "execution_count": null,
   "metadata": {
    "collapsed": false
   },
   "outputs": [
    {
     "data": {
      "application/javascript": [
       "require.undef(\"nbextensions/vpython_libraries/glow.min\");"
      ],
      "text/plain": [
       "<IPython.core.display.Javascript object>"
      ]
     },
     "metadata": {},
     "output_type": "display_data"
    },
    {
     "data": {
      "application/javascript": [
       "require.undef(\"nbextensions/vpython_libraries/glowcomm\");"
      ],
      "text/plain": [
       "<IPython.core.display.Javascript object>"
      ]
     },
     "metadata": {},
     "output_type": "display_data"
    },
    {
     "data": {
      "application/javascript": [
       "require.undef(\"nbextensions/vpython_libraries/jquery-ui.custom.min\");"
      ],
      "text/plain": [
       "<IPython.core.display.Javascript object>"
      ]
     },
     "metadata": {},
     "output_type": "display_data"
    },
    {
     "data": {
      "application/javascript": [
       "require([\"nbextensions/vpython_libraries/glow.min\"], function(){console.log(\"GLOW LOADED\");})"
      ],
      "text/plain": [
       "<IPython.core.display.Javascript object>"
      ]
     },
     "metadata": {},
     "output_type": "display_data"
    },
    {
     "data": {
      "application/javascript": [
       "require([\"nbextensions/vpython_libraries/glowcomm\"], function(){console.log(\"GLOWCOMM LOADED\");})"
      ],
      "text/plain": [
       "<IPython.core.display.Javascript object>"
      ]
     },
     "metadata": {},
     "output_type": "display_data"
    },
    {
     "data": {
      "application/javascript": [
       "require([\"nbextensions/vpython_libraries/jquery-ui.custom.min\"], function(){console.log(\"JQUERY LOADED\");})"
      ],
      "text/plain": [
       "<IPython.core.display.Javascript object>"
      ]
     },
     "metadata": {},
     "output_type": "display_data"
    },
    {
     "data": {
      "text/html": [
       "<div id=\"glowscript\" class=\"glowscript\"></div>"
      ],
      "text/plain": [
       "<IPython.core.display.HTML object>"
      ]
     },
     "metadata": {},
     "output_type": "display_data"
    },
    {
     "data": {
      "application/javascript": [
       "window.__context = { glowscript_container: $(\"#glowscript\").removeAttr(\"id\")}"
      ],
      "text/plain": [
       "<IPython.core.display.Javascript object>"
      ]
     },
     "metadata": {},
     "output_type": "display_data"
    }
   ],
   "source": [
    "import ipywidgets as wd\n",
    "from vpython import *\n",
    "scene = canvas() # This is needed in Jupyter notebook and lab to make programs easily rerunnable\n",
    "\n",
    "# This version uses a Jupyter notebook menu\n",
    "# See Textures2 for a version that uses a VPython menu\n",
    "\n",
    "scene.width = 600\n",
    "scene.height = 600\n",
    "show = 'box'\n",
    "last_show = show\n",
    "\n",
    "R = 0.4 # radius of sphere\n",
    "D = 0.7 # size of box\n",
    "\n",
    "texs = [textures.flower, textures.granite, textures.gravel, textures.metal, textures.rock, textures.rough,\n",
    "        textures.rug, textures.stones, textures.stucco, textures.wood, textures.wood_old, textures.earth]\n",
    "bumps = [None, None, bumpmaps.gravel, None, bumpmaps.rock, None, None,\n",
    "         bumpmaps.stones, bumpmaps.stucco, None, bumpmaps.wood_old]\n",
    "texnames = ['flower', 'granite', 'gravel', 'metal', 'rock', 'rough', 'rug', 'stones', 'stucco', 'wood', 'wood_old', 'earth']\n",
    "bumpnames = [ None, None, 'gravel', None, 'rock', None, None, 'stones', 'stucco', None, 'wood_old']\n",
    "\n",
    "labels = []\n",
    "\n",
    "def erase():\n",
    "    objects = scene.objects\n",
    "    for obj in objects:\n",
    "        obj.visible = False\n",
    "\n",
    "def show_object(index, x, y):\n",
    "    T = texs[index]\n",
    "    B = None\n",
    "    # Bump maps aren't very salient unless one moves the light or rotates the object,\n",
    "    # so don't bother with bump maps unless there's an option to move the light or object.\n",
    "    #if (bumps[index] !== null) B = bumpmaps[bumps[index]]\n",
    "    if show == 'box':\n",
    "        c = box(pos=vec(x,y,0), size=D*vec(1,1,1))\n",
    "    elif show == 'sphere':\n",
    "        c = sphere(pos=vec(x,y,0), size=D*vec(1,1,1))\n",
    "    elif show == 'cylinder': \n",
    "        c = cylinder(pos=vec(x-D/2,y,0), size=D*vec(1,1,1))\n",
    "    elif show == 'cone': \n",
    "        c = cone(pos=vec(x-D/2,y,0), size=D*vec(1,1,1))\n",
    "    elif show == 'pyramid': \n",
    "        c = pyramid(pos=vec(x-D/2,y,0), size=D*vec(1,1,1))\n",
    "    c.index = index\n",
    "    c.shininess = 0\n",
    "    c.texture = dict(file=T, bumpmap=B)\n",
    "    labels.append(label(pos=vec(x,y-.5,0), box=0, text='textures.'+texnames[index]))\n",
    "\n",
    "def start_setup():\n",
    "    scene.range = 2.2\n",
    "    scene.fov = 0.2\n",
    "    scene.center = vec(1.5,2,0)\n",
    "    scene.forward = vec(0,0,-1)\n",
    "    erase()\n",
    "    #scene.visible = False\n",
    "    index = 0\n",
    "    y = 3.3\n",
    "    while y > 0:\n",
    "        for x in range(4):\n",
    "            if index >= len(texs): break; \n",
    "            show_object(index, x, y)\n",
    "            index += 1\n",
    "        y -= 1.3\n",
    "\n",
    "def end_setup():\n",
    "    #scene.visible = True\n",
    "    scene.title = 'Click an object to enlarge it.'\n",
    "\n",
    "def setup():\n",
    "    start_setup()\n",
    "    end_setup()\n",
    "\n",
    "start_setup()\n",
    "#scene.caption = \"Loading textures...\"\n",
    "#scene.waitfor(\"textures\") # not yet implemented in Jupyter VPython\n",
    "\n",
    "m = wd.Dropdown(options=['box', 'sphere', 'cylinder', 'cone', 'pyramid'], value='box',\n",
    "                           description=\"Change the type of object: \")\n",
    "container = wd.HBox(children=[m])\n",
    "display(container)\n",
    "\n",
    "def m_handler(s):\n",
    "    global show\n",
    "    show = s['new']\n",
    "m.observe(m_handler, names='value')\n",
    "\n",
    "end_setup()\n",
    "\n",
    "hit = None\n",
    "clicked = False\n",
    "def click(ev):\n",
    "    global hit, clicked\n",
    "    hit = scene.mouse.pick\n",
    "    clicked = True\n",
    "scene.bind(\"click\", click)\n",
    "\n",
    "def single_object(index):\n",
    "    erase()\n",
    "    scene.center = vec(0,-.1*R,0)\n",
    "    scene.range = 1.5*R\n",
    "    show_object(index, 0, 0)\n",
    "    scene.title = 'Click anywhere to see all textures.'\n",
    "\n",
    "picked = None\n",
    "    \n",
    "while True:\n",
    "    rate(30)\n",
    "    if show != last_show:\n",
    "        last_show = show\n",
    "        if picked != None:\n",
    "            single_object(picked.index)\n",
    "        else:\n",
    "            setup()\n",
    "    if clicked:\n",
    "        clicked = False\n",
    "        if picked != None:\n",
    "            picked = None\n",
    "            setup()\n",
    "        elif picked == None and hit != None:\n",
    "            picked = hit\n",
    "            hit = None\n",
    "            single_object(picked.index)"
   ]
  },
  {
   "cell_type": "code",
   "execution_count": null,
   "metadata": {
    "collapsed": true
   },
   "outputs": [],
   "source": []
  }
 ],
 "metadata": {
  "anaconda-cloud": {},
  "kernelspec": {
   "display_name": "VPython",
   "language": "python",
   "name": "vpython"
  },
  "language_info": {
   "codemirror_mode": {
    "name": "ipython",
    "version": 3
   },
   "file_extension": ".py",
   "mimetype": "text/x-python",
   "name": "python",
   "nbconvert_exporter": "python",
   "pygments_lexer": "ipython3",
   "version": "3.6.6"
  }
 },
 "nbformat": 4,
 "nbformat_minor": 2
}
