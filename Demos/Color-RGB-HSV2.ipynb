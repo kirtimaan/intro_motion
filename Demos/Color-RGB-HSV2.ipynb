{
 "cells": [
  {
   "cell_type": "code",
   "execution_count": 1,
   "metadata": {},
   "outputs": [
    {
     "data": {
      "text/html": [
       "<div id=\"glowscript\" class=\"glowscript\"></div>"
      ],
      "text/plain": [
       "<IPython.core.display.HTML object>"
      ]
     },
     "metadata": {},
     "output_type": "display_data"
    },
    {
     "data": {
      "application/javascript": [
       "window.__context = { glowscript_container: $(\"#glowscript\").removeAttr(\"id\")}"
      ],
      "text/plain": [
       "<IPython.core.display.Javascript object>"
      ]
     },
     "metadata": {},
     "output_type": "display_data"
    }
   ],
   "source": [
    "from vpython import *\n",
    "scene = canvas() # This is needed in Jupyter notebook and lab to make programs easily rerunnable\n",
    "# This version uses VPython slider\n",
    "# See ButtonsSlidersMenus1 for a version that uses Jupyter slider\n",
    "\n",
    "scene.userzoom = False\n",
    "scene.userspin = False\n",
    "scene.width = 400\n",
    "scene.height = 200\n",
    "scene.range = 1\n",
    "scene.background = color.red\n",
    "box(pos=vector(10,0,0)) # Force creation of canvas; box is not seen because it is outside the canvas\n",
    "cancopy = 'You can Ctrl-C or Command-C copy these RGB and HSV values:\\n'\n",
    "scene.title = cancopy\n",
    "scene.append_to_title(\"RGB = <1.000, 0.000, 0.000>, HSV = <0.000, 0.000, 0.000>\")\n",
    "\n",
    "C = ['Red', 'Green', 'Blue', 'Hue', 'Saturation', 'Value']\n",
    "sliders = []\n",
    "\n",
    "def set_background(sl):\n",
    "    if sl.id < 3:\n",
    "        rgb = vector(sliders[0].value, sliders[1].value, sliders[2].value)\n",
    "        hsv = color.rgb_to_hsv(rgb)\n",
    "        sliders[3].value = int(1000*hsv.x)/1000# reset HSV slider positions; display 3 figures\n",
    "        sliders[4].value = int(1000*hsv.y)/1000\n",
    "        sliders[5].value = int(1000*hsv.z)/1000\n",
    "    else:\n",
    "        hsv = vector(sliders[3].value, sliders[4].value, sliders[5].value)\n",
    "        rgb = color.hsv_to_rgb(hsv)\n",
    "        sliders[0].value = int(1000*rgb.x)/1000 # reset RGB slider positions; display 3 figures\n",
    "        sliders[1].value = int(1000*rgb.y)/1000\n",
    "        sliders[2].value = int(1000*rgb.z)/1000\n",
    "    scene.background = rgb\n",
    "    # For readability, limit precision of display of quantities to 3 figures\n",
    "    f = \"RGB = <{:1.3f}, {:1.3f}, {:1.3f}>, HSV = <{:1.3f}, {:1.3f}, {:1.3f}>\"\n",
    "    scene.title = cancopy + f.format(rgb.x, rgb.y, rgb.z, hsv.x, hsv.y, hsv.z)\n",
    "\n",
    "scene.caption = '\\n'\n",
    "for i in range(6): # Create the 3 RGB and 3 HSV sliders\n",
    "    sliders.append(slider(length=300, left=10, min=0, max=1, bind=set_background, id=i))\n",
    "    scene.append_to_caption('    '+C[i]+'\\n\\n') # Display slider name\n",
    "    if i == 2: scene.append_to_caption(\"\\n\\n\") # Separate the RGB and HSV sliders\n",
    "sliders[0].value = 1 # make the background red\n",
    "sliders[4].value = sliders[5].value = 1\n"
   ]
  },
  {
   "cell_type": "code",
   "execution_count": null,
   "metadata": {
    "collapsed": true
   },
   "outputs": [],
   "source": []
  }
 ],
 "metadata": {
  "anaconda-cloud": {},
  "kernelspec": {
   "display_name": "VPython",
   "language": "python",
   "name": "vpython"
  },
  "language_info": {
   "codemirror_mode": {
    "name": "ipython",
    "version": 3
   },
   "file_extension": ".py",
   "mimetype": "text/x-python",
   "name": "python",
   "nbconvert_exporter": "python",
   "pygments_lexer": "ipython3",
   "version": "3.6.6"
  }
 },
 "nbformat": 4,
 "nbformat_minor": 2
}
