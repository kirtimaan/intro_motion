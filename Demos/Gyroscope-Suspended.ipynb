{
 "cells": [
  {
   "cell_type": "code",
   "execution_count": null,
   "metadata": {
    "collapsed": false
   },
   "outputs": [
    {
     "data": {
      "application/javascript": [
       "require.undef(\"nbextensions/vpython_libraries/glow.min\");"
      ],
      "text/plain": [
       "<IPython.core.display.Javascript object>"
      ]
     },
     "metadata": {},
     "output_type": "display_data"
    },
    {
     "data": {
      "application/javascript": [
       "require.undef(\"nbextensions/vpython_libraries/glowcomm\");"
      ],
      "text/plain": [
       "<IPython.core.display.Javascript object>"
      ]
     },
     "metadata": {},
     "output_type": "display_data"
    },
    {
     "data": {
      "application/javascript": [
       "require.undef(\"nbextensions/vpython_libraries/jquery-ui.custom.min\");"
      ],
      "text/plain": [
       "<IPython.core.display.Javascript object>"
      ]
     },
     "metadata": {},
     "output_type": "display_data"
    },
    {
     "data": {
      "application/javascript": [
       "require([\"nbextensions/vpython_libraries/glow.min\"], function(){console.log(\"GLOW LOADED\");})"
      ],
      "text/plain": [
       "<IPython.core.display.Javascript object>"
      ]
     },
     "metadata": {},
     "output_type": "display_data"
    },
    {
     "data": {
      "application/javascript": [
       "require([\"nbextensions/vpython_libraries/glowcomm\"], function(){console.log(\"GLOWCOMM LOADED\");})"
      ],
      "text/plain": [
       "<IPython.core.display.Javascript object>"
      ]
     },
     "metadata": {},
     "output_type": "display_data"
    },
    {
     "data": {
      "application/javascript": [
       "require([\"nbextensions/vpython_libraries/jquery-ui.custom.min\"], function(){console.log(\"JQUERY LOADED\");})"
      ],
      "text/plain": [
       "<IPython.core.display.Javascript object>"
      ]
     },
     "metadata": {},
     "output_type": "display_data"
    },
    {
     "data": {
      "text/html": [
       "<div id=\"glowscript\" class=\"glowscript\"></div>"
      ],
      "text/plain": [
       "<IPython.core.display.HTML object>"
      ]
     },
     "metadata": {},
     "output_type": "display_data"
    },
    {
     "data": {
      "application/javascript": [
       "window.__context = { glowscript_container: $(\"#glowscript\").removeAttr(\"id\")}"
      ],
      "text/plain": [
       "<IPython.core.display.Javascript object>"
      ]
     },
     "metadata": {},
     "output_type": "display_data"
    }
   ],
   "source": [
    "from vpython import *\n",
    "scene = canvas() # This is needed in Jupyter notebook and lab to make programs easily rerunnable\n",
    "\n",
    "# Written by Bruce Sherwood, licensed under Creative Commons 4.0.\n",
    "# All uses permitted, but you must not claim that you wrote it, and\n",
    "# you must include this license information in any copies you make.\n",
    "# For details see http://creativecommons.org/licenses/by/4.0\n",
    "\n",
    "# Gyroscope hanging from a spring\n",
    "\n",
    "scene.width = scene.height = 600\n",
    "scene.title = 'Hanging gyroscope'\n",
    "scene.background = color.white\n",
    "scene.range = 1.5\n",
    "\n",
    "top = vector(0,1,0) # where top of spring is held\n",
    "ks = 100 # spring stiffness\n",
    "Lspring = 1 # unstretched length of spring\n",
    "Rspring = 0.03 # radius of spring\n",
    "Dspring = 0.03 # thickness of spring wire\n",
    "Lshaft = 1 # length of gyroscope shaft\n",
    "Rshaft = 0.03 # radius of gyroscope shaft\n",
    "M = 1 # mass of gyroscope (massless shaft)\n",
    "Rrotor = 0.4 # radius of gyroscope rotor\n",
    "Drotor = 0.1 # thickness of gyroscope rotor\n",
    "Dsquare = 1.4*Drotor # thickness of square that turns with rotor\n",
    "I = 0.5*M*Rrotor**2 # moment of inertia of gyroscope\n",
    "omega = 40 # angular velocity of rotor along axis\n",
    "g = 9.8\n",
    "Fgrav = vector(0,-M*g,0)\n",
    "precession = M*g*(Lshaft/2)/(I*abs(omega)) # exact precession angular velocity\n",
    "phi = atan(precession**2*(Lshaft/2)/g) # approximate angle of spring to vertical\n",
    "s = M*g/(ks*cos(phi)) # approximate stretch of spring\n",
    "# Refine estimate of angle of spring to vertical:\n",
    "phi = 1/( ((I*abs(omega))/(M*Lshaft/2))**2/(g*Lshaft/2)-(Lspring+s)/(Lshaft/2) )\n",
    "# Refine again:\n",
    "s = M*g/(ks*cos(phi))\n",
    "phi = 1/( ((I*abs(omega))/(M*Lshaft/2))**2/(g*Lshaft/2.)-(Lspring+s)/(Lshaft/2) )\n",
    "\n",
    "support = box(pos=top+vector(0,0.01,0), size=vector(0.2,0.02,0.2), color=color.green)\n",
    "spring = helix(pos=top, axis=vector(-(Lspring+s)*sin(phi),-(Lspring+s)*cos(phi),0), coils=10,\n",
    "               radius=Rspring, thickness=Dspring, color=vector(1,0.7,0.2))\n",
    "a = vector(1,0,0)\n",
    "shaft = cylinder(axis=Lshaft*a, radius=Rshaft, color=vector(0.85,0.85,0.85))\n",
    "rotor = cylinder(pos=0.5*a*(Lshaft-Drotor), opacity=0.2,\n",
    "                 axis=Drotor*a, radius=Rrotor, color=vector(0.5,0.5,0.5))\n",
    "stripe = box(pos=rotor.pos+0.5*vector(Drotor,0,0),\n",
    "              size=vector(0.03*Rrotor,2*Rrotor,0.03*Rrotor), color=color.black)\n",
    "gyro = compound([rotor, shaft, stripe])\n",
    "gyro.rotate(axis=vector(0,1,0), angle=-pi)\n",
    "gyro.pos = top+spring.axis+0.5*Lshaft*norm(gyro.axis)\n",
    "\n",
    "#cm = gyro.pos+0.5*Lshaft*gyro.axis # center of mass of shaft\n",
    "Lrot = I*omega*gyro.axis\n",
    "dt = 0.005\n",
    "\n",
    "Lrotarrow = arrow(length=0, shaftwidth=Rshaft, color=color.red, visible=False)\n",
    "Lrotscale = 0.07\n",
    "torquearrow = arrow(length=0, shaftwidth=Lrotarrow.shaftwidth, color=color.cyan, visible=False)\n",
    "torquescale = 0.11\n",
    "visLrot = False\n",
    "visTorque = False\n",
    "\n",
    "def Runb(r):\n",
    "    global run\n",
    "    run = not run\n",
    "    if run:\n",
    "        r.text = \"Pause\"\n",
    "    else:\n",
    "        r.text = \"Run\"\n",
    "\n",
    "Runbutton = button(text=\"Run\", bind=Runb)\n",
    "\n",
    "def ResetRunbutton():\n",
    "    global run\n",
    "    run = False\n",
    "    Runbutton.text = \"Run\"\n",
    "\n",
    "scene.append_to_caption('   ')\n",
    "\n",
    "def SPINbutton(s):\n",
    "    global omega\n",
    "    omega = -omega\n",
    "    reset()\n",
    "\n",
    "button(text='Flip spin direction', bind=SPINbutton)\n",
    "scene.append_to_caption(\"   \")\n",
    "\n",
    "def Lbutton(b):\n",
    "    global visLrot\n",
    "    visLrot = not visLrot\n",
    "\n",
    "checkbox(bind=Lbutton)\n",
    "scene.append_to_caption(\" Show Lrot (red)   \")\n",
    "\n",
    "def Tbutton(b):\n",
    "    global visTorque\n",
    "    visTorque = not visTorque\n",
    "\n",
    "checkbox( bind=Tbutton)\n",
    "scene.append_to_caption(\" Show torque about CM (cyan)\")\n",
    "\n",
    "scene.append_to_caption(\"\\n\\nChoose initial conditions:  \")\n",
    "\n",
    "# Create a drop-down menu (a \"select\" object). Set up the options to appear:\n",
    "menu_options = []\n",
    "menu_options.append(\"Pure precession\")\n",
    "menu_options.append(\"More general motion\")\n",
    "\n",
    "def handlemenu(m): # come here when a change is made in the menu choice\n",
    "    global pureprecession\n",
    "    val = m.index\n",
    "    pureprecession = (val == 0)\n",
    "    reset()\n",
    "\n",
    "menu(choices=menu_options, selected=menu_options[0], bind=handlemenu)\n",
    "\n",
    "pureprecession = True\n",
    "initial = []\n",
    "\n",
    "run = False\n",
    "\n",
    "def reset(first=False):\n",
    "    global p, pureprecession, t, initial, Lrot\n",
    "    if first: # take advantage of the existing initializations at the start of the program\n",
    "        # vector(vector) to make nonmutable copies of the initial vslues\n",
    "        initial = [vector(gyro.pos), vector(gyro.axis), vector(spring.axis), vector(Lrot),\\\n",
    "                   vector(Lrotarrow.pos), vector(Lrotarrow.axis),\\\n",
    "                   vector(torquearrow.pos), vector(torquearrow.axis)]\n",
    "    else:\n",
    "        gyro.pos = initial[0]\n",
    "        gyro.axis = initial[1]\n",
    "        spring.axis = initial[2]\n",
    "        Lrot = initial[3]\n",
    "        Lrotarrow.pos = initial[4]\n",
    "        Lrotarrow.axis = initial[5]\n",
    "        torquearrow.pos = initial[6]\n",
    "        torquearrow.axis = initial[7]\n",
    "    t = 0\n",
    "    if pureprecession:\n",
    "        p = vector(0, 0, M*precession*(Lshaft/2+(Lspring+s)*sin(phi)))\n",
    "    else:\n",
    "        p = vector(0,-1,M*precession*(Lshaft/2+(Lspring+s)*sin(phi)))\n",
    "    if omega < 0:\n",
    "        p = -p\n",
    "        Lrot = -Lrot\n",
    "    Lrotarrow.visible = False\n",
    "    torquearrow.visible = False\n",
    "    ResetRunbutton()\n",
    "\n",
    "reset(True)\n",
    "\n",
    "while True:\n",
    "    rate(100)\n",
    "    if not run: continue\n",
    "    \n",
    "    Fspring = -ks*norm(spring.axis)*(mag(spring.axis)-Lspring)\n",
    "    # Calculate torque about center of mass:\n",
    "    torque = cross(-0.5*Lshaft*gyro.axis,Fspring)\n",
    "    Lrot = Lrot + torque*dt\n",
    "    p = p + (Fgrav+Fspring)*dt\n",
    "    gyro.pos = gyro.pos+(p/M)*dt\n",
    "\n",
    "    # Update positions of shaft, rotor, spring, stripes\n",
    "    if omega > 0:\n",
    "        gyro.axis = norm(Lrot)\n",
    "    else:\n",
    "        gyro.axis = -norm(Lrot)\n",
    "    # shaft rotated, adjust connection to spring\n",
    "    #gyro.pos = cm-0.5*Lshaft*gyro.axis \n",
    "    spring.axis = gyro.pos-0.5*Lshaft*norm(gyro.axis) - top\n",
    "    # spin easier to see if slower than actual omega\n",
    "    gyro.rotate(angle=omega*dt/4)\n",
    "\n",
    "    # Update arrows representing angular momentum and angular impulse\n",
    "    Lrotarrow.visible = visLrot\n",
    "    torquearrow.visible = visTorque\n",
    "    if omega > 0:\n",
    "        Lrotarrow.pos = gyro.pos + 0.5*Lshaft*gyro.axis\n",
    "    else:\n",
    "        Lrotarrow.pos = gyro.pos - 0.5*Lshaft*gyro.axis\n",
    "    Lrotarrow.axis = Lrot*Lrotscale\n",
    "    torquearrow.pos = gyro.pos\n",
    "    torquearrow.axis = torque*torquescale\n",
    "    t = t+dt\n"
   ]
  },
  {
   "cell_type": "code",
   "execution_count": null,
   "metadata": {
    "collapsed": true
   },
   "outputs": [],
   "source": []
  }
 ],
 "metadata": {
  "anaconda-cloud": {},
  "kernelspec": {
   "display_name": "VPython",
   "language": "python",
   "name": "vpython"
  },
  "language_info": {
   "codemirror_mode": {
    "name": "ipython",
    "version": 3
   },
   "file_extension": ".py",
   "mimetype": "text/x-python",
   "name": "python",
   "nbconvert_exporter": "python",
   "pygments_lexer": "ipython3",
   "version": "3.6.6"
  }
 },
 "nbformat": 4,
 "nbformat_minor": 2
}
