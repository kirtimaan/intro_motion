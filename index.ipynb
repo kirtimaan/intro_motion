{
 "cells": [
  {
   "cell_type": "markdown",
   "metadata": {
    "collapsed": true
   },
   "source": [
    "### Jupyter VPython: navigable real-time 3D animations, done simply\n",
    "##### See [vpython.org](http://vpython.org) for how to obtain and use the vpython module\n",
    "\n",
    ">Right button drag or Ctrl-drag to rotate \"camera\" to view scene.  \n",
    "To zoom, drag with middle button or Alt/Option depressed, or use scroll wheel.  \n",
    "&nbsp;&nbsp;&nbsp;&nbsp;&nbsp;&nbsp;On a two-button mouse, middle is left + right.  \n",
    "Touch screen: pinch/extend to zoom, swipe or two-finger rotate.\n",
    "\n",
    "##### If asked to pick a notebook type, choose VPython.\n",
    "\n",
    "[Atomic solid](Demos/AtomicSolid.ipynb): ball-and-spring model of a solid\n",
    "\n",
    "[Billboarding text](Demos/BillboardingText.ipynb): 3D text, with \"billboarding\" \n",
    "\n",
    "[Binary star](Demos/BinaryStar.ipynb): two stars orbit each other\n",
    "\n",
    "[Bounce](Demos/Bounce-VPython.ipynb): a ball bounces in a 3D box\n",
    "\n",
    "[Local moving lights](Demos/BoxLightTest.ipynb): local lights moving around the scene\n",
    "\n",
    "[Buttons, sliders, and menus](Demos/ButtonsSlidersMenus1-async.ipynb): rotating box, Jupyter widgets\n",
    "\n",
    "[Buttons, sliders, and menus](Demos/ButtonsSlidersMenus2.ipynb): rotating box, GlowScript widgets\n",
    "\n",
    "[RGB-HSV colors](Demos/Color-RGB-HSV1.ipynb): RGB <-> HSV color conversions, Jupyter widgets\n",
    "\n",
    "[RGB-HSV colors](Demos/Color-RGB-HSV2.ipynb): RGB <-> HSV color conversions, GlowScript widgets\n",
    "\n",
    "[Dipole electric field](Demos/DipoleElectricField.ipynb): the electric field of a dipole (+ and - charges)\n",
    "\n",
    "[Double pendulum](Demos/DoublePendulum.ipynb): a double pendulum shows chaotic motion\n",
    "\n",
    "[Extrusions](Demos/Extrusions.ipynb): extrude a 2D shape along a 3D path\n",
    "\n",
    "[Live graphs](Demos/Graphs.ipynb): incremental graphing; mouse over the graph with crosshairs\n",
    "\n",
    "[Gyroscope](Demos/Gyroscope.ipynb): a gyroscope precessing and nutting on a pedestal\n",
    "\n",
    "[Gyroscope-suspended](Demos/Gyroscope-Suspended.ipynb): a gyroscope suspended from a spring\n",
    "\n",
    "[Hard-sphere gas](Demos/HardSphereGas.ipynb): a gas of colliding hard spheres, with graph of speed distribution\n",
    "\n",
    "[Lorenz function](Demos/Lorenz.ipynb): the Lorenz function\n",
    "\n",
    "[Mouse dragging](Demos/MouseDrag.ipynb): drag objects with the mouse\n",
    "\n",
    "[Mouse picking](Demos/MousePicking.ipynb): click on an object to change its color; see [technical details](http://www.glowscript.org/docs/GlowScriptDocs/technical.html)\n",
    "\n",
    "[Plot 3D function](Demos/Plot3D.ipynb): plot a function of x, y, and t\n",
    "\n",
    "[Rotating boxes](Demos/RotatingBoxes.ipynb): 1000 rotating boxes\n",
    "\n",
    "[Rotating curve](Demos/RotatingCurve.ipynb): 15000-point rotating curve object\n",
    "\n",
    "[Rotating points](Demos/RotatingPoints.ipynb): 15000-point rotating points object\n",
    "\n",
    "[Rug](Demos/Rug.ipynb): a wave moves along a Navajo rug\n",
    "\n",
    "[Stars](Demos/Stars.ipynb): 20 stars interacting with each other gravitationally\n",
    "\n",
    "[Surreal Stonehenge](Demos/Stonehenge.ipynb): fly through a surreal scene\n",
    "\n",
    "[Textures](Demos/Textures1-async.ipynb): textures included with Jupyter VPython, Jupyter widgets\n",
    "\n",
    "[Textures](Demos/Textures2.ipynb): textures included with Jupyter VPython, GlowScript widgets\n",
    "\n",
    "[Transparency](Demos/Transparency.ipynb): true pixel-level transparency; see [technical details](http://www.glowscript.org/docs/GlowScriptDocs/technical.html)\n",
    "\n",
    "[VPython objects](Demos/VPythonObjects.ipynb): examples of most of the VPython objects"
   ]
  },
  {
   "cell_type": "code",
   "execution_count": null,
   "metadata": {
    "collapsed": true
   },
   "outputs": [],
   "source": []
  }
 ],
 "metadata": {
  "anaconda-cloud": {},
  "kernelspec": {
   "display_name": "Python 3",
   "language": "python",
   "name": "python3"
  },
  "language_info": {
   "codemirror_mode": {
    "name": "ipython",
    "version": 3
   },
   "file_extension": ".py",
   "mimetype": "text/x-python",
   "name": "python",
   "nbconvert_exporter": "python",
   "pygments_lexer": "ipython3",
   "version": "3.6.4"
  }
 },
 "nbformat": 4,
 "nbformat_minor": 1
}
