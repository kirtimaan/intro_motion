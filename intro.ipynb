{
 "cells": [
  {
   "cell_type": "markdown",
   "metadata": {},
   "source": [
    "# Simulating the motion of a ball\n",
    "In this lesson we will be learning the very basics of coding and using the python programming language to perform some simple kinematic calculations and simulations.\n",
    "Learning Goals:\n",
    "1. Start and run a jupyter notebook\n",
    "2. Create shapes like spheres and cubes using vpython\n",
    "3. Learn how to do iterative tasks using loops\n",
    "4. Get a ball to move!\n",
    "5. Bonus: Make graphs of motion."
   ]
  },
  {
   "cell_type": "markdown",
   "metadata": {},
   "source": [
    "## Part A: Defining objects and variables\n",
    "The first step for us is define objects that we will use. Here, we are interested in making a ball (an object) move along the floor (another object). We will be using a library of functions that already has objects like spheres and cubes defined in them, so we wont have to work to hard and code these objects from scratch. \n",
    "\n",
    "The first step is importing or loading this library - vpython. Run the code block below to do this - you can do this by clicking on the code block below and either hitting the Run button on top or by pressing \"Shift +Enter\"."
   ]
  },
  {
   "cell_type": "code",
   "execution_count": null,
   "metadata": {},
   "outputs": [],
   "source": [
    "# This is a comment\n",
    "# Here we are going to import the vpython library\n",
    "from vpython import *"
   ]
  },
  {
   "cell_type": "markdown",
   "metadata": {},
   "source": [
    "## What are the (#) comments for ? \n",
    "Lines that start with a \"#\" are comment lines - the computer cannot see these lines and ignores them. However, we can see them and we use them to describe bits of code in our human language. This is very useful and you should do it as much as possible!\n",
    "\n",
    "## What's 2 + 3 ?\n",
    "There is more than one way of doing this and below we will do it in three different ways. \n",
    "1. Just type 2+3 in the cell below \n",
    "2. Save the numbers 2 & 3 in the variables a and b and add a+b - we will make use of this alot"
   ]
  },
  {
   "cell_type": "code",
   "execution_count": null,
   "metadata": {},
   "outputs": [],
   "source": [
    "# The direct way\n",
    "2+3"
   ]
  },
  {
   "cell_type": "code",
   "execution_count": null,
   "metadata": {},
   "outputs": [],
   "source": [
    "# Store the numbers in variables \n",
    "a=2 # assign the variable \"a\" with value 2\n",
    "b=3 # assign the variable \"a\" with value 3\n",
    "a+b # add a+b"
   ]
  },
  {
   "cell_type": "code",
   "execution_count": null,
   "metadata": {},
   "outputs": [],
   "source": [
    "# The same done with prettier print statements\n",
    "print(\"a =\",a)\n",
    "print(\"b =\",b)\n",
    "print(\"a + b =\", a+b)"
   ]
  },
  {
   "cell_type": "markdown",
   "metadata": {},
   "source": [
    "# Vectors\n",
    "You have probably learned about vectors in your introductory physics course or your calculus course. Here, we will be using vectors to organize our calculations so that things look simpler. \n",
    "We will only need to know the following about (3D spatial) vectors:\n",
    "1. Vectors are a ordered set of numbers written like (x,y,z), where x represents the x, y and z represent the x,y and z components of the vector.\n",
    "2. When we add to vectors we are adding the components, i.e. we add separately, the x, y and z components of the two vectors : What is (2,3,4) + (5,6,7) = ? Run the code block below and check if it makes sense to you.\n",
    "3. When we multiply a vector with a scalar (a number) we, we simply multiply the number with each of the components to get a new vector. What is 2*(2,3,4) = ? Run the code block below to check if it makes sense to you."
   ]
  },
  {
   "cell_type": "code",
   "execution_count": null,
   "metadata": {},
   "outputs": [],
   "source": [
    "# Adding two vectors\n",
    "a=vector(2,3,4) # define a vector with components (2,3,4) and save it as a variable a\n",
    "b=vector(5,6,7)  # define a vector with components (5,6,7) and save it as a variable b\n",
    "print(\"a+b = \",a+b)\n",
    "#Multiplying a scalar with a vector\n",
    "print(\"2*a =\",2*a)"
   ]
  },
  {
   "cell_type": "markdown",
   "metadata": {},
   "source": [
    "# Defining Objects\n",
    "We are now ready to define objects like a sphere or a box. But before we do that we need to set the scene with a canvas. Afterall, we are painting a ball, and how can one paint without a canvas? After defining the canvas, we will define a sphere to represent a ball and box to represent the ground.\n",
    "\n",
    "Look at the three lines of code below and answer the following questions:\n",
    "1. What do you think the \"center= vector(0,0,0)\" statement is trying to do? Change the numbers and describe what happens.\n",
    "2. What statement defines the location or position of the ball? Can you try changing the position of the ball?\n",
    "3. What controls the size and color of the ball? Can you try changing these.\n",
    "4. Similarly, what controls the size, color and location of the box.\n",
    "\n",
    "### Navigating your canvas \n",
    "\n",
    "You can change the view of your canvas. Try playing around with the view using the following instructions\n",
    "- Right button drag or Ctrl-drag to rotate \"camera\" to view scene.\n",
    "- To zoom, drag with middle button or Alt/Option depressed, or use scroll wheel.\n",
    "- On a two-button mouse, middle is left + right.\n",
    "- Touch screen: pinch/extend to zoom, swipe or two-finger rotate."
   ]
  },
  {
   "cell_type": "code",
   "execution_count": null,
   "metadata": {},
   "outputs": [],
   "source": [
    "# Set the scene, define a canvas that is centered at the origin of the coordinate system\n",
    "scene=canvas(center=vector(0,0,0)) \n",
    "# Draw a sphere to represent the ball\n",
    "ball = sphere(pos=vector(-5,1,0), radius = 0.5, color = color.red)\n",
    "# Draw a box that represents the ground\n",
    "ground = box(pos=vector(0,0,0), length = 10, width =1, height = 1, color = color.green)"
   ]
  },
  {
   "cell_type": "markdown",
   "metadata": {},
   "source": [
    "# Setting initial attributes for the balls motion\n",
    "Now that we have defined our ball, we next need to set what its initial velocity and acceleration are, along with the time for which we will be simulating the balls motion.\n",
    "\n",
    "Look at the code below and answer the following questions\n",
    "1. What are the x,y and z components of the initial velocity and acceleration of the ball?\n",
    "2. What is the for which we will be running our simulation?\n"
   ]
  },
  {
   "cell_type": "code",
   "execution_count": null,
   "metadata": {},
   "outputs": [],
   "source": [
    "ball.velocity=vector(1,0,0) # Set the initial velocity to be 1 unit in the positive x direction\n",
    "ball.acceleration=vector(1,0,0) # Set the acceleration to be 0.\n",
    "\n",
    "t=0 # Set the initial time \n",
    "tf=10 # Set the final time"
   ]
  },
  {
   "cell_type": "markdown",
   "metadata": {},
   "source": [
    "# What next?\n",
    "At this point you might think that all one needs to do is to use kinematic equations that we learned about in physics class to calculate the final position and velocity of the ball. \n",
    "For example we, when the ball is moving at a constant pace, we can make use of the equation \n",
    "$x_f = x_i + v_i \\Delta t$ , where $x_f$ is the final position of the ball, $x_i$ is the initial position of the ball, $\\Delta t = t_f - t_i$ is duration of motion and $v_i$ is the initial velocity of the ball. \n",
    "We can do this quite easily with the code below:"
   ]
  },
  {
   "cell_type": "code",
   "execution_count": null,
   "metadata": {},
   "outputs": [],
   "source": [
    "ball.pos= ball.pos + ball.velocity*(tf -t)\n",
    "print(\"Final position of ball = \",ball.pos)"
   ]
  },
  {
   "cell_type": "markdown",
   "metadata": {},
   "source": [
    "## Questions\n",
    "1. Were you able to calculate the final position of the ball?\n",
    "2. Did you observe how we translated the equation $x_f = x_i + v_i (t_f - t_i)$ into code? What represents the velocity and time? \n",
    "3. What about $x_i$ and $x_f$? How are they being represented by the same variable? What is going on here?\n",
    "4. Scroll back up to your canvas - where is the ball now? What happened?"
   ]
  },
  {
   "cell_type": "markdown",
   "metadata": {},
   "source": [
    "# Part B Loops for the full simulation\n",
    "You saw above how we were able to calculate the final position of the particle with one line of code. However, we were not able to watch the ball move. In order to do this, we want to be able to calculate the change in position of the ball over small intervals of time ($\\delta t$). For example, suppose we try to calculate the change in position every 1 second. Does this mean we type \"ball.pos= ball.pos + ball.velocity*(tf -t)\" 10 times? \n",
    "\n",
    "You can try to do it this way, but what happens if we try to change the position every 0.1 or 0.01 seconds - we will need to write this out 100 or 1000 times! \n",
    "\n",
    "Fortunately, there is a better way to do this using loops and this what computers are really good at doing. Here we will use a specific kind of loop called a while loop.\n",
    "Go through the code below and answer the following questions:\n",
    "1. How many times is the position updated ?\n",
    "2. What criterion determines when to stop running the \"while\" loop and stop updating the position.\n",
    "3. What is the purpose of the line \" t= t + delta_t \" ?"
   ]
  },
  {
   "cell_type": "code",
   "execution_count": null,
   "metadata": {},
   "outputs": [],
   "source": [
    "######\n",
    "# Reset values \n",
    "ball.pos=vector(-5,1,0) # reset ball position back to starting point\n",
    "t=0 # reset time back to zero\n",
    "tf=10\n",
    "delta_t=1 # Define time steps \n",
    "######\n",
    "\n",
    "# Define a while loop that will run until the time t exceeds final time tf\n",
    "while (t<tf): \n",
    "    # put everything that you want to repeat in the while loop with an indentation (usually 4 spaces).\n",
    "    ball.pos = ball.pos + ball.velocity*delta_t # update the ball position\n",
    "    t= t + delta_t # update the time \n",
    "    print(\"time = \", t, \":  x component of ball.pos = \", ball.pos.x ) # print everything\n",
    "# while loop ends when you stop indenting.    "
   ]
  },
  {
   "cell_type": "markdown",
   "metadata": {},
   "source": [
    "# Putting it all together\n",
    "Lets put all the pieces together. \n",
    "1. The definition of the objects - the canvas, the ground and the ball\n",
    "2. The difinition of the balls velocity and time \n",
    "3. The while loop that iteratively updates the position of the ball\n",
    "\n",
    "# Run the code below to see what your simulation does. \n",
    "1. What is being printed as the final position and velocity of the ball? Does this make sense?\n",
    "2. What is controlling the speed of your simulation? Can you make your simulation play faster or slower? "
   ]
  },
  {
   "cell_type": "code",
   "execution_count": null,
   "metadata": {
    "scrolled": true
   },
   "outputs": [],
   "source": [
    "## Define canvas, ball and ground\n",
    "scene=canvas(center=vector(0,0,0))\n",
    "# Draw a ball\n",
    "ball = sphere(pos=vector(-5,1,0), radius = 0.5, color = color.red)\n",
    "# Draw a box that represents the ground\n",
    "ground = box(pos=vector(0,0,0), length = 10, width =1, height = 1, color = color.green)\n",
    "\n",
    "\n",
    "\n",
    "## Define initial velocity of ball\n",
    "ball.velocity=vector(1,0,0)\n",
    "ball.acceleration=vector(0,0,0)\n",
    "## Define time\n",
    "t=0.0\n",
    "tf=10.0\n",
    "delta_t = 0.1\n",
    "\n",
    "## Start while loop\n",
    "while (t<=tf):\n",
    "    rate(10) # Keep the simulation slow\n",
    "    ball.pos = ball.pos + ball.velocity*delta_t # update the ball position\n",
    "    t= t + delta_t # update the time \n",
    "# while loop ends when you stop indenting.        \n",
    "print(\"time = \", t, \":  x component of ball.pos = \", ball.pos.x ) # print everything\n",
    "\n"
   ]
  },
  {
   "cell_type": "markdown",
   "metadata": {},
   "source": [
    "# Bonus: Making graphs\n",
    "We have added three lines of code below that are being used to make a velocity vs time graph.\n",
    "1.Can you add a few more lines of code below so that we can also plot a position vs time graph?"
   ]
  },
  {
   "cell_type": "code",
   "execution_count": null,
   "metadata": {},
   "outputs": [],
   "source": [
    "## Define canvas, ball and ground\n",
    "scene=canvas(center=vector(0,0,0))\n",
    "# Draw a ball\n",
    "ball = sphere(pos=vector(-5,1,0), radius = 0.5, color = color.red)\n",
    "# Draw a box that represents the ground\n",
    "ground = box(pos=vector(0,0,0), length = 10, width =1, height = 1, color = color.green)\n",
    "\n",
    "\n",
    "\n",
    "## Define initial velocity of ball\n",
    "ball.velocity=vector(1,0,0)\n",
    "ball.acceleration=vector(0,0,0)\n",
    "## Define time\n",
    "t=0.0\n",
    "tf=10.0\n",
    "delta_t = 0.1\n",
    "\n",
    "############\n",
    "# Define Graphs\n",
    "velGraph = graph(xtitle=\"time [units]\",ytitle=\"velocity [units]\",xmin=0,xmax=tf,ymin=-10,ymax=10)\n",
    "f1=gcurve(color=color.blue, label=\"Velocity\")\n",
    "############\n",
    "\n",
    "## Start while loop\n",
    "while (t<=tf):\n",
    "    rate(10) # Keep the simulation slow\n",
    "    ball.pos = ball.pos + ball.velocity*delta_t # update the ball position\n",
    "    t= t + delta_t # update the time \n",
    "    f1.plot(t,ball.velocity.x)# plot x component of velocity\n",
    "# while loop ends when you stop indenting.        \n",
    "print(\"time = \", t, \":  x component of ball.pos = \", ball.pos.x ) # print everything\n"
   ]
  },
  {
   "cell_type": "markdown",
   "metadata": {},
   "source": [
    "## What did we learn?\n",
    "Technically, what we were doing was to solve a simple differential equation using a straight forward integration method. Later we will learn how to do this in a more refined and efficient way. \n",
    "\n",
    "## Part C : Can you make the ball accelerate?\n",
    "Copy the code from above and paste it into the cell below. Modify it to make the ball accelerate. Hint, you will have to update the velocity at every time step too now. Recall that $v_i = v_f + a \\times \\Delta t$."
   ]
  },
  {
   "cell_type": "code",
   "execution_count": null,
   "metadata": {},
   "outputs": [],
   "source": [
    "# paste code from above and modify it to make the ball accelerate with constant velocity.\n",
    "\n"
   ]
  }
 ],
 "metadata": {
  "kernelspec": {
   "display_name": "Python 3 (ipykernel)",
   "language": "python",
   "name": "python3"
  },
  "language_info": {
   "codemirror_mode": {
    "name": "ipython",
    "version": 3
   },
   "file_extension": ".py",
   "mimetype": "text/x-python",
   "name": "python",
   "nbconvert_exporter": "python",
   "pygments_lexer": "ipython3",
   "version": "3.9.7"
  }
 },
 "nbformat": 4,
 "nbformat_minor": 2
}
