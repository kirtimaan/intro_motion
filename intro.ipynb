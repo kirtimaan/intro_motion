{
 "cells": [
  {
   "cell_type": "code",
   "execution_count": null,
   "metadata": {},
   "outputs": [],
   "source": [
    "from vpython import *\n",
    "scene = canvas() # This is needed in Jupyter notebook and lab to make programs easily rerunnable\n",
    "scene.caption = \"\"\"Right button drag or Ctrl-drag to rotate \"camera\" to view scene.\n",
    "To zoom, drag with middle button or Alt/Option depressed, or use scroll wheel.\n",
    "     On a two-button mouse, middle is left + right.\n",
    "Touch screen: pinch/extend to zoom, swipe or two-finger rotate.\"\"\"\n",
    "\n",
    "side = 4.0\n",
    "thk = 0.3\n",
    "s2 = 2*side - thk\n",
    "s3 = 2*side + thk\n",
    "wallR = box (pos=vector( side, 0, 0), size=vector(thk, s2, s3),  color = color.red)\n",
    "wallL = box (pos=vector(-side, 0, 0), size=vector(thk, s2, s3),  color = color.red)\n",
    "wallB = box (pos=vector(0, -side, 0), size=vector(s3, thk, s3),  color = color.blue)\n",
    "wallT = box (pos=vector(0,  side, 0), size=vector(s3, thk, s3),  color = color.blue)\n",
    "wallBK = box(pos=vector(0, 0, -side), size=vector(s2, s2, thk), color = color.gray(0.7))\n",
    "\n",
    "ball = sphere (color = color.green, radius = 0.4, make_trail=True, retain=100)\n",
    "ball.mass = 1.0\n",
    "ball.p = vector(-0.15, -0.23, +0.27)\n",
    "side = side - thk*0.5 - ball.radius\n",
    "\n",
    "dt = 0.3\n",
    "t = 0.0\n",
    "while True:\n",
    "    rate(200)\n",
    "    t = t + dt\n",
    "    ball.pos = ball.pos + (ball.p/ball.mass)*dt\n",
    "    if not (side > ball.pos.x > -side):\n",
    "        ball.p.x = -ball.p.x\n",
    "    if not (side > ball.pos.y > -side):\n",
    "        ball.p.y = -ball.p.y\n",
    "    if not (side > ball.pos.z > -side):\n",
    "        ball.p.z = -ball.p.z"
   ]
  },
  {
   "cell_type": "markdown",
   "metadata": {},
   "source": [
    "# Introduction\n",
    "In this lesson we will be learning the very basics of coding and using the python programming language to perform some simple kinematic calculations and simulations.\n",
    "Learning Goals:\n",
    "1. Start and run a jupyter notebook\n",
    "2. Create shapes like spheres and cubes using vpython\n",
    "3. Learn how to do iterative tasks using loops\n",
    "4. Get a ball to move!\n",
    "Bonus: Make graphs of motion."
   ]
  },
  {
   "cell_type": "markdown",
   "metadata": {},
   "source": [
    "# Part A: Defining objects and variables\n",
    "The first step for us is define objects that we will use. Here, we are interested in making a ball (an object) move along the floor (another object). We will be using a library of functions that already has objects like spheres and cubes defined in them, so we wont have to work to hard and code these objects from scratch. \n",
    "\n",
    "The first step is importing or loading this library - vpython. Run the code block below to do this - you can do this by clicking on the code block below and either hitting the Run button on top or by pressing \"Shift +Enter\"."
   ]
  },
  {
   "cell_type": "code",
   "execution_count": 2,
   "metadata": {},
   "outputs": [
    {
     "ename": "ModuleNotFoundError",
     "evalue": "No module named 'vpython'",
     "output_type": "error",
     "traceback": [
      "\u001b[0;31m---------------------------------------------------------------------------\u001b[0m",
      "\u001b[0;31mModuleNotFoundError\u001b[0m                       Traceback (most recent call last)",
      "\u001b[0;32m<ipython-input-2-c58365adb6f7>\u001b[0m in \u001b[0;36m<module>\u001b[0;34m\u001b[0m\n\u001b[0;32m----> 1\u001b[0;31m \u001b[0;32mfrom\u001b[0m \u001b[0mvpython\u001b[0m \u001b[0;32mimport\u001b[0m \u001b[0;34m*\u001b[0m\u001b[0;34m\u001b[0m\u001b[0;34m\u001b[0m\u001b[0m\n\u001b[0m",
      "\u001b[0;31mModuleNotFoundError\u001b[0m: No module named 'vpython'"
     ]
    }
   ],
   "source": [
    "# This is a comment\n",
    "# Here we are going to import the vpython library\n",
    "from vpython import *"
   ]
  },
  {
   "cell_type": "markdown",
   "metadata": {},
   "source": [
    "## What are the (#) comments for ? \n",
    "Lines that start with a \"#\" are comment lines - the computer cannot see these lines and ignores them. However, we can see them and we use them to describe bits of code in our human language. This is very useful and you should do it as much as possible!\n",
    "\n",
    "# Whats 2 + 3 ?\n",
    "There is more than one way of doing this and below we will do it in three different ways. \n",
    "1. Simply just type 2+3 in the cell below \n",
    "2. Save the numbers 2 & 3 in the variables a and b and add a+b - we will make use of this alot"
   ]
  },
  {
   "cell_type": "code",
   "execution_count": 3,
   "metadata": {},
   "outputs": [
    {
     "data": {
      "text/plain": [
       "5"
      ]
     },
     "execution_count": 3,
     "metadata": {},
     "output_type": "execute_result"
    }
   ],
   "source": [
    "# The direct way\n",
    "2+3"
   ]
  },
  {
   "cell_type": "code",
   "execution_count": 4,
   "metadata": {},
   "outputs": [
    {
     "data": {
      "text/plain": [
       "5"
      ]
     },
     "execution_count": 4,
     "metadata": {},
     "output_type": "execute_result"
    }
   ],
   "source": [
    "# Store the numbers in variables \n",
    "a=2 # assign the variable \"a\" with value 2\n",
    "b=3 # assign the variable \"a\" with value 3\n",
    "a+b # add a+b"
   ]
  },
  {
   "cell_type": "code",
   "execution_count": 5,
   "metadata": {},
   "outputs": [
    {
     "name": "stdout",
     "output_type": "stream",
     "text": [
      "a = 2\n",
      "b = 3\n",
      "a + b = 5\n"
     ]
    }
   ],
   "source": [
    "# The same done with prettier print statements\n",
    "print(\"a =\",a)\n",
    "print(\"b =\",b)\n",
    "print(\"a + b =\", a+b)"
   ]
  },
  {
   "cell_type": "markdown",
   "metadata": {},
   "source": [
    "# Vectors\n",
    "You have probably learned about vectors in your introductory physics course or your calculus course. Here, we will be using vectors to organize our calculations so that things look simpler. \n",
    "We will only need to know the following about (3D spatial) vectors:\n",
    "1. Vectors are a ordered set of numbers written like (x,y,z), where x represents the x, y and z represent the x,y and z components of the vector.\n",
    "2. When we add to vectors we are adding the components, i.e. we add separately, the x, y and z components of the two vectors : What is (2,3,4) + (5,6,7) = ? Run the code block below and check if it makes sense to you.\n",
    "3. When we multiply a vector with a scalar (a number) we, we simply multiply the number with each of the components to get a new vector. What is 2*(2,3,4) = ? Run the code block below to check if it makes sense to you."
   ]
  },
  {
   "cell_type": "code",
   "execution_count": 9,
   "metadata": {},
   "outputs": [
    {
     "ename": "NameError",
     "evalue": "name 'vector' is not defined",
     "output_type": "error",
     "traceback": [
      "\u001b[0;31m---------------------------------------------------------------------------\u001b[0m",
      "\u001b[0;31mNameError\u001b[0m                                 Traceback (most recent call last)",
      "\u001b[0;32m<ipython-input-9-e0f13990f2d9>\u001b[0m in \u001b[0;36m<module>\u001b[0;34m\u001b[0m\n\u001b[1;32m      1\u001b[0m \u001b[0;31m# Adding two vectors\u001b[0m\u001b[0;34m\u001b[0m\u001b[0;34m\u001b[0m\u001b[0;34m\u001b[0m\u001b[0m\n\u001b[0;32m----> 2\u001b[0;31m \u001b[0ma\u001b[0m\u001b[0;34m=\u001b[0m\u001b[0mvector\u001b[0m\u001b[0;34m(\u001b[0m\u001b[0;36m2\u001b[0m\u001b[0;34m,\u001b[0m\u001b[0;36m3\u001b[0m\u001b[0;34m,\u001b[0m\u001b[0;36m4\u001b[0m\u001b[0;34m)\u001b[0m \u001b[0;31m# define a vector with components (2,3,4) and save it as a variable a\u001b[0m\u001b[0;34m\u001b[0m\u001b[0;34m\u001b[0m\u001b[0m\n\u001b[0m\u001b[1;32m      3\u001b[0m \u001b[0mb\u001b[0m\u001b[0;34m=\u001b[0m\u001b[0mvetor\u001b[0m\u001b[0;34m(\u001b[0m\u001b[0;36m5\u001b[0m\u001b[0;34m,\u001b[0m\u001b[0;36m6\u001b[0m\u001b[0;34m,\u001b[0m\u001b[0;36m7\u001b[0m\u001b[0;34m)\u001b[0m  \u001b[0;31m# define a vector with components (5,6,7) and save it as a variable b\u001b[0m\u001b[0;34m\u001b[0m\u001b[0;34m\u001b[0m\u001b[0m\n\u001b[1;32m      4\u001b[0m \u001b[0mprint\u001b[0m\u001b[0;34m(\u001b[0m\u001b[0;34m\"a+b = \"\u001b[0m\u001b[0;34m,\u001b[0m\u001b[0ma\u001b[0m\u001b[0;34m+\u001b[0m\u001b[0mb\u001b[0m\u001b[0;34m)\u001b[0m\u001b[0;34m\u001b[0m\u001b[0;34m\u001b[0m\u001b[0m\n\u001b[1;32m      5\u001b[0m \u001b[0;31m#Multiplying a scalar with a vector\u001b[0m\u001b[0;34m\u001b[0m\u001b[0;34m\u001b[0m\u001b[0;34m\u001b[0m\u001b[0m\n",
      "\u001b[0;31mNameError\u001b[0m: name 'vector' is not defined"
     ]
    }
   ],
   "source": [
    "# Adding two vectors\n",
    "a=vector(2,3,4) # define a vector with components (2,3,4) and save it as a variable a\n",
    "b=vector(5,6,7)  # define a vector with components (5,6,7) and save it as a variable b\n",
    "print(\"a+b = \",a+b)\n",
    "#Multiplying a scalar with a vector\n",
    "print(\"2*a =\",2*a)"
   ]
  },
  {
   "cell_type": "markdown",
   "metadata": {},
   "source": [
    "# Defining Objects\n",
    "We are now ready to define objects like a sphere or a box. But before we do that we need to set the scene with a canvas. Afterall, we are painting a ball, and how can one paint without a canvas? After defining the canvas, we will define a sphere to represent a ball and box to represent the ground.\n",
    "\n",
    "Look at the three lines of code below and answer the following questions:\n",
    "1. What do you think the \"center= vector(0,0,0)\" statement is trying to do? Change the numbers and describe what happens.\n",
    "2. What statement defines the location or position of the ball? Can you try changing the position of the ball?\n",
    "3. What controls the size and color of the ball? Can you try changing these.\n",
    "4. Similarly, what controls the size, color and location of the box."
   ]
  },
  {
   "cell_type": "code",
   "execution_count": 12,
   "metadata": {},
   "outputs": [
    {
     "ename": "NameError",
     "evalue": "name 'canvas' is not defined",
     "output_type": "error",
     "traceback": [
      "\u001b[0;31m---------------------------------------------------------------------------\u001b[0m",
      "\u001b[0;31mNameError\u001b[0m                                 Traceback (most recent call last)",
      "\u001b[0;32m<ipython-input-12-15dc48a1d45b>\u001b[0m in \u001b[0;36m<module>\u001b[0;34m\u001b[0m\n\u001b[0;32m----> 1\u001b[0;31m \u001b[0mscene\u001b[0m\u001b[0;34m=\u001b[0m\u001b[0mcanvas\u001b[0m\u001b[0;34m(\u001b[0m\u001b[0mcenter\u001b[0m\u001b[0;34m=\u001b[0m\u001b[0mvector\u001b[0m\u001b[0;34m(\u001b[0m\u001b[0;36m0\u001b[0m\u001b[0;34m,\u001b[0m\u001b[0;36m0\u001b[0m\u001b[0;34m,\u001b[0m\u001b[0;36m0\u001b[0m\u001b[0;34m)\u001b[0m\u001b[0;34m)\u001b[0m\u001b[0;34m\u001b[0m\u001b[0;34m\u001b[0m\u001b[0m\n\u001b[0m\u001b[1;32m      2\u001b[0m \u001b[0;31m# Draw a ball\u001b[0m\u001b[0;34m\u001b[0m\u001b[0;34m\u001b[0m\u001b[0;34m\u001b[0m\u001b[0m\n\u001b[1;32m      3\u001b[0m \u001b[0mball\u001b[0m \u001b[0;34m=\u001b[0m \u001b[0msphere\u001b[0m\u001b[0;34m(\u001b[0m\u001b[0mpos\u001b[0m\u001b[0;34m=\u001b[0m\u001b[0mvector\u001b[0m\u001b[0;34m(\u001b[0m\u001b[0;34m-\u001b[0m\u001b[0;36m5\u001b[0m\u001b[0;34m,\u001b[0m\u001b[0;36m1\u001b[0m\u001b[0;34m,\u001b[0m\u001b[0;36m0\u001b[0m\u001b[0;34m)\u001b[0m\u001b[0;34m,\u001b[0m \u001b[0mradius\u001b[0m \u001b[0;34m=\u001b[0m \u001b[0;36m0.5\u001b[0m\u001b[0;34m,\u001b[0m \u001b[0mcolor\u001b[0m \u001b[0;34m=\u001b[0m \u001b[0mcolor\u001b[0m\u001b[0;34m.\u001b[0m\u001b[0mred\u001b[0m\u001b[0;34m)\u001b[0m\u001b[0;34m\u001b[0m\u001b[0;34m\u001b[0m\u001b[0m\n\u001b[1;32m      4\u001b[0m \u001b[0;31m# Draw a box that represents the ground\u001b[0m\u001b[0;34m\u001b[0m\u001b[0;34m\u001b[0m\u001b[0;34m\u001b[0m\u001b[0m\n\u001b[1;32m      5\u001b[0m \u001b[0mground\u001b[0m \u001b[0;34m=\u001b[0m \u001b[0mbox\u001b[0m\u001b[0;34m(\u001b[0m\u001b[0mpos\u001b[0m\u001b[0;34m=\u001b[0m\u001b[0mvector\u001b[0m\u001b[0;34m(\u001b[0m\u001b[0;36m0\u001b[0m\u001b[0;34m,\u001b[0m\u001b[0;36m0\u001b[0m\u001b[0;34m,\u001b[0m\u001b[0;36m0\u001b[0m\u001b[0;34m)\u001b[0m\u001b[0;34m,\u001b[0m \u001b[0mlength\u001b[0m \u001b[0;34m=\u001b[0m \u001b[0;36m10\u001b[0m\u001b[0;34m,\u001b[0m \u001b[0mwidth\u001b[0m \u001b[0;34m=\u001b[0m\u001b[0;36m1\u001b[0m\u001b[0;34m,\u001b[0m \u001b[0mheight\u001b[0m \u001b[0;34m=\u001b[0m \u001b[0;36m1\u001b[0m\u001b[0;34m,\u001b[0m \u001b[0mcolor\u001b[0m \u001b[0;34m=\u001b[0m \u001b[0mcolor\u001b[0m\u001b[0;34m.\u001b[0m\u001b[0mgreen\u001b[0m\u001b[0;34m)\u001b[0m\u001b[0;34m\u001b[0m\u001b[0;34m\u001b[0m\u001b[0m\n",
      "\u001b[0;31mNameError\u001b[0m: name 'canvas' is not defined"
     ]
    }
   ],
   "source": [
    "# Set the scene, define a canvas that is centered at the origin of the coordinate system\n",
    "scene=canvas(center=vector(0,0,0)) \n",
    "# Draw a sphere to represent the ball\n",
    "ball = sphere(pos=vector(-5,1,0), radius = 0.5, color = color.red)\n",
    "# Draw a box that represents the ground\n",
    "ground = box(pos=vector(0,0,0), length = 10, width =1, height = 1, color = color.green)"
   ]
  },
  {
   "cell_type": "code",
   "execution_count": null,
   "metadata": {},
   "outputs": [],
   "source": [
    "scene=canvas(center=vector(0,0,0))\n",
    "# Draw a ball\n",
    "ball = sphere(pos=vector(-5,1,0), radius = 0.5, color = color.red)\n",
    "# Draw a box that represents the ground\n",
    "ground = box(pos=vector(0,0,0), length = 10, width =1, height = 1, color = color.green)\n",
    "ball.mass= 1\n",
    "#print(\"Position of ball\", ball.pos)\n",
    "ball.velocity=vector(1,0,0)\n",
    "\n",
    "ball.acceleration=vector(1,0,0)\n",
    "#Create an arrow\n",
    "vArrow = arrow(pos=ball.pos, axis = ball.velocity, color = color.blue)\n",
    "\n",
    "t=0\n",
    "tf=10\n",
    "delta_t = 0.1\n",
    "\n",
    "posGraph = graph(xtitle=\"time [units]\",ytitle=\"position [units]\",xmin=0,xmax=tf,ymin=-10,ymax=10)\n",
    "f0=gcurve(color=color.red,label=\"Position\")\n",
    "f1=gcurve(color=color.blue, label=\"Velocity\")\n",
    "f2=gcurve(color=color.green, label=\"Acceleration\")\n",
    "#velGraph = series(graph=graph(xtitle=\"time [units]\",ytitle=\"velocity [units]\",xmin=0,xmax=tf,ymin=-10,ymax=10),color=color.blue)\n",
    "\n",
    "\n",
    "\n",
    "while (t<tf):\n",
    "    rate(20) # Keep the simulation slow\n",
    "    ball.pos = ball.pos + ball.velocity*delta_t + 1/2 * ball.acceleration*delta_t*delta_t\n",
    "    ball.velocity += ball.acceleration*delta_t \n",
    "    vArrow.pos=ball.pos\n",
    "   # print(\"position= \",ball.pos,\" , particle velocity\", ball.velocity)\n",
    "    f0.plot(t,ball.pos.x)\n",
    "    f1.plot(t,ball.velocity.x)\n",
    "    f2.plot(t,ball.acceleration.x)\n",
    "    t=t+delta_t"
   ]
  }
 ],
 "metadata": {
  "kernelspec": {
   "display_name": "Python 3",
   "language": "python",
   "name": "python3"
  },
  "language_info": {
   "codemirror_mode": {
    "name": "ipython",
    "version": 3
   },
   "file_extension": ".py",
   "mimetype": "text/x-python",
   "name": "python",
   "nbconvert_exporter": "python",
   "pygments_lexer": "ipython3",
   "version": "3.7.3"
  }
 },
 "nbformat": 4,
 "nbformat_minor": 2
}
